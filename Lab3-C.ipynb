{
 "cells": [
  {
   "cell_type": "code",
   "execution_count": 3,
   "metadata": {
    "jupyter": {
     "source_hidden": true
    }
   },
   "outputs": [],
   "source": [
    "   # Imports Galore\n",
    "import numpy as np\n",
    "import matplotlib\n",
    "import matplotlib.pyplot as plt\n",
    "import scipy\n",
    "from scipy import signal as sig\n",
    "import simpleaudio as sa\n",
    "import decimal\n",
    "from scipy.io import wavfile as wav"
   ]
  },
  {
   "cell_type": "code",
   "execution_count": 4,
   "metadata": {},
   "outputs": [],
   "source": [
    "fs = 100\n",
    "x = np.concatenate([np.zeros(int(1.0*fs)), np.ones(int(2.0*fs)), np.zeros(int(1.0*fs))])\n",
    "h1 = np.zeros(int(4.0*fs))\n",
    "h1[int(1.0*fs)] = fs\n",
    "h2 = np.concatenate([np.ones(int(1.0*fs)), np.zeros(int(3.0*fs))])\n",
    "y1a = np.concatenate([np.zeros(int(2.0*fs)), np.ones(int(2.0*fs))])\n",
    "y1 = np.convolve(x, h1)\n",
    "y2 = np.convolve(x, h2)"
   ]
  },
  {
   "cell_type": "code",
   "execution_count": 5,
   "metadata": {
    "jupyter": {
     "source_hidden": true
    }
   },
   "outputs": [
    {
     "data": {
      "text/plain": [
       "[<matplotlib.lines.Line2D at 0x22b656c2508>]"
      ]
     },
     "execution_count": 5,
     "metadata": {},
     "output_type": "execute_result"
    },
    {
     "data": {
      "image/png": "[encoded data removed]",
      "text/plain": [
       "<Figure size 432x288 with 3 Axes>"
      ]
     },
     "metadata": {
      "needs_background": "light"
     },
     "output_type": "display_data"
    }
   ],
   "source": [
    "fig1 = plt.figure(1)\n",
    "fig1.subplots_adjust(hspace=2,wspace=1)\n",
    "plt.subplot(3,1,1)\n",
    "plt.title('x(t)')\n",
    "plt.plot(x)\n",
    "plt.subplot(3,1,2)\n",
    "plt.title('h1(t)')\n",
    "plt.plot(h1)\n",
    "plt.subplot(3,1,3)\n",
    "plt.title('h2(t)')\n",
    "plt.plot(h2)"
   ]
  },
  {
   "cell_type": "markdown",
   "metadata": {},
   "source": [
    "# \\#1\n",
    "$x(t) = u(t-1) - u(t-3)$\n",
    "\n",
    "$h_1(t) = \\delta(t-1)$\n",
    "\n",
    "$h_2(t) = p(t) = u(t) - u(t-1)$\n",
    "\n",
    "$y_1(t) = x(t)\\textbf{*}h_1(t) = u(t-2) - u(t-4)$\n",
    "\n",
    "$y_2(t) = x(t)\\textbf{*}h_2(t)$"
   ]
  },
  {
   "cell_type": "code",
   "execution_count": 6,
   "metadata": {
    "jupyter": {
     "source_hidden": true
    }
   },
   "outputs": [
    {
     "data": {
      "text/plain": [
       "[<matplotlib.lines.Line2D at 0x22b657e70c8>]"
      ]
     },
     "execution_count": 6,
     "metadata": {},
     "output_type": "execute_result"
    },
    {
     "data": {
      "image/png": "[encoded data removed]",
      "text/plain": [
       "<Figure size 432x288 with 2 Axes>"
      ]
     },
     "metadata": {
      "needs_background": "light"
     },
     "output_type": "display_data"
    }
   ],
   "source": [
    "fig2 = plt.figure(2)\n",
    "fig2.subplots_adjust(hspace = 1, wspace = 1)\n",
    "plt.subplot(2, 1, 1)\n",
    "plt.title('x(t)*h1(t)')\n",
    "plt.plot(y1)\n",
    "plt.subplot(2,1,2)\n",
    "plt.title('x(t)*h2(t)')\n",
    "plt.plot(y2)"
   ]
  },
  {
   "cell_type": "markdown",
   "metadata": {},
   "source": [
    "## \\#2)\n",
    "\n",
    "```python\n",
    "x = np.concatenate([np.zeros(int(1.0*fs)), np.ones(int(2.0*fs)), np.zeros(int(1.0*fs))])\n",
    "\n",
    "h1 = np.zeros(int(4.0*fs))\n",
    "h1[int(1.0*fs)] = fs\n",
    "```"
   ]
  },
  {
   "cell_type": "markdown",
   "metadata": {},
   "source": [
    "## \\#3)\n",
    "\n",
    "1) h1(t) = $\\delta(t-1)$\n",
    "\n",
    "2) h2(t) = 10$\\delta(t)$\n",
    "\n",
    "3) h3(t) = $\\delta(t-2)$"
   ]
  }
 ],
 "metadata": {
  "kernelspec": {
   "display_name": "Python 3",
   "language": "python",
   "name": "python3"
  },
  "language_info": {
   "codemirror_mode": {
    "name": "ipython",
    "version": 3
   },
   "file_extension": ".py",
   "mimetype": "text/x-python",
   "name": "python",
   "nbconvert_exporter": "python",
   "pygments_lexer": "ipython3",
   "version": "3.7.4"
  }
 },
 "nbformat": 4,
 "nbformat_minor": 4
}
